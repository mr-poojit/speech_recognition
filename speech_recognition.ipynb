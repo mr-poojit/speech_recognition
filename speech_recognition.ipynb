{
 "cells": [
  {
   "cell_type": "code",
   "execution_count": null,
   "id": "6119e406-e291-45be-ae09-976cf3d02f03",
   "metadata": {},
   "outputs": [
    {
     "name": "stdout",
     "output_type": "stream",
     "text": [
      "A moment of silence, please...\n",
      "Set minimum energy threshold to 138.1622537320742\n",
      "Say something!\n",
      "Got it! Now to recognize it...\n",
      "You said hello\n",
      "Say something!\n",
      "Got it! Now to recognize it...\n",
      "You said how\n",
      "Say something!\n",
      "Got it! Now to recognize it...\n",
      "Oops! Didn't catch that\n",
      "Say something!\n",
      "Got it! Now to recognize it...\n",
      "You said how are you\n",
      "Say something!\n",
      "Got it! Now to recognize it...\n",
      "You said I M good what about you\n",
      "Say something!\n"
     ]
    }
   ],
   "source": [
    "import speech_recognition as sr\n",
    "\n",
    "r = sr.Recognizer()\n",
    "m = sr.Microphone()\n",
    "\n",
    "try:\n",
    "    print(\"A moment of silence, please...\")\n",
    "    with m as source: r.adjust_for_ambient_noise(source)\n",
    "    print(\"Set minimum energy threshold to {}\".format(r.energy_threshold))\n",
    "    while True:\n",
    "        print(\"Say something!\")\n",
    "        with m as source: audio = r.listen(source)\n",
    "        print(\"Got it! Now to recognize it...\")\n",
    "        try:\n",
    "            value = r.recognize_google(audio)\n",
    "\n",
    "            print(\"You said {}\".format(value))\n",
    "            if value.lower() == \"close\":\n",
    "                print(\"Closing the program...\")\n",
    "                break\n",
    "        except sr.UnknownValueError:\n",
    "            print(\"Oops! Didn't catch that\")\n",
    "        except sr.RequestError as e:\n",
    "            print(\"Uh oh! Couldn't request results from Google Speech Recognition service; {0}\".format(e))\n",
    "except KeyboardInterrupt:\n",
    "    pass"
   ]
  }
 ],
 "metadata": {
  "kernelspec": {
   "display_name": "Python 3 (ipykernel)",
   "language": "python",
   "name": "python3"
  },
  "language_info": {
   "codemirror_mode": {
    "name": "ipython",
    "version": 3
   },
   "file_extension": ".py",
   "mimetype": "text/x-python",
   "name": "python",
   "nbconvert_exporter": "python",
   "pygments_lexer": "ipython3",
   "version": "3.11.7"
  }
 },
 "nbformat": 4,
 "nbformat_minor": 5
}
